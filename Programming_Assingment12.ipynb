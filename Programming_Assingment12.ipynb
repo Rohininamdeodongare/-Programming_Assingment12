{
 "cells": [
  {
   "cell_type": "code",
   "execution_count": null,
   "id": "69c65a38",
   "metadata": {},
   "outputs": [],
   "source": [
    "         Programming_Assingment No:-12"
   ]
  },
  {
   "cell_type": "code",
   "execution_count": 1,
   "id": "fe481e0f",
   "metadata": {},
   "outputs": [
    {
     "name": "stdout",
     "output_type": "stream",
     "text": [
      "dict_values(['Rushikesh', 'Rohini', 'Vrushali', 'pratik', 'Priyanka', 'Durgesh'])\n",
      "Unique Values: ['Rushikesh', 'pratik', 'Vrushali', 'Priyanka', 'Durgesh', 'Rohini']\n"
     ]
    }
   ],
   "source": [
    "Q.1.Write a Python program to Extract Unique values dictionary values?\n",
    "Answer:-\n",
    "in_dict = {1: 'Rushikesh', 2:'Rohini', 3:'Vrushali' , 4:'pratik' , 5:'Priyanka', 6:'Durgesh'}\n",
    "print(in_dict.values())\n",
    "print(f'Unique Values: {list(set(in_dict.values()))}')"
   ]
  },
  {
   "cell_type": "code",
   "execution_count": 2,
   "id": "6998b059",
   "metadata": {},
   "outputs": [
    {
     "name": "stdout",
     "output_type": "stream",
     "text": [
      "Sum of all items:  406\n"
     ]
    }
   ],
   "source": [
    "Q.2.Write a Python program to find the sum of all items in a dictionary?\n",
    "Answer:-\n",
    "in_dict = {'Apple':35, 'Banana':50, 'Mango':85, 'Guvva':39, 'PineApple':67, 'kivi':95, 'applebor':35}\n",
    "print('Sum of all items: ', sum(in_dict.values()))"
   ]
  },
  {
   "cell_type": "code",
   "execution_count": 3,
   "id": "66d9cb2a",
   "metadata": {},
   "outputs": [
    {
     "name": "stdout",
     "output_type": "stream",
     "text": [
      "{'course_name': 'Ineuron', 'course_instructors': ['Sudhanshu Kumar', 'Krish Naik']}\n"
     ]
    }
   ],
   "source": [
    "Q3.Write a Python program to Merging two Dictionaries?\n",
    "Answer:-\n",
    "course_details = {\n",
    "    'course_name':'Ineuron'\n",
    "}\n",
    "instructors = {\n",
    "    'course_instructors':['Sudhanshu Kumar' , 'Krish Naik']\n",
    "}\n",
    "course_details.update(instructors)\n",
    "print(course_details)"
   ]
  },
  {
   "cell_type": "code",
   "execution_count": 4,
   "id": "ee96d018",
   "metadata": {},
   "outputs": [
    {
     "name": "stdout",
     "output_type": "stream",
     "text": [
      "{'A': 10, 'B': 20, 'C': 30, 'D': 40, 'E': 50, 'F': 60, 'G': 70, 'H': 80, 'I': 90, 'J': 100}\n"
     ]
    }
   ],
   "source": [
    "Q4.Write a Python program to convert key-values list to flat dictionary?\n",
    "Answer:-\n",
    "in_list = [('A',10),('B',20),('C',30),('D',40),('E',50),('F',60),('G',70),('H',80),('I',90),('J',100)]\n",
    "# method #1\n",
    "dict(in_list)\n",
    "#method #2\n",
    "out_dict = {}\n",
    "for ele in in_list:\n",
    "    out_dict[ele[0]] = ele[1]\n",
    "print(out_dict)"
   ]
  },
  {
   "cell_type": "code",
   "execution_count": 6,
   "id": "04bb4bef",
   "metadata": {
    "scrolled": true
   },
   "outputs": [
    {
     "name": "stdout",
     "output_type": "stream",
     "text": [
      "dict_one OrderedDict([('Apple', 'Iphone'), ('microsoft', 'Windows'), ('Google', 'Chrome')])\n",
      "dict_one OrderedDict([('Apple', 'Iphone'), ('microsoft', 'Windows'), ('Google', 'Chrome'), ('Tesla', 'Spacex')])\n",
      "dict_one OrderedDict([('Tesla', 'Spacex'), ('Apple', 'Iphone'), ('microsoft', 'Windows'), ('Google', 'Chrome')])\n"
     ]
    }
   ],
   "source": [
    "Q5.Write a Python program to insertion at the beginning in OrderedDict?\n",
    "Answer:-\n",
    "from collections import OrderedDict\n",
    "dict_one = OrderedDict({'Apple':'Iphone', 'microsoft':'Windows' ,'Google':'Chrome' })\n",
    "print('dict_one',dict_one)\n",
    "dict_two = {'Tesla':'Spacex'}\n",
    "dict_one.update(dict_two)\n",
    "print('dict_one',dict_one)\n",
    "dict_one.move_to_end('Tesla',last= False)\n",
    "print('dict_one',dict_one)"
   ]
  },
  {
   "cell_type": "code",
   "execution_count": 7,
   "id": "cf48c3d7",
   "metadata": {},
   "outputs": [
    {
     "name": "stdout",
     "output_type": "stream",
     "text": [
      "{'a': 1000, 'f': 200, 'd': 300, 'c': 400, 'b': 500, 'e': 600}\n",
      "OrderedDict([('a', 1000), ('b', 500), ('c', 400), ('d', 300), ('e', 600), ('f', 200)])\n"
     ]
    }
   ],
   "source": [
    "Q.6.Write a Python program to check order of character in string using OrderedDict()?\n",
    "Answer:-\n",
    "from collections import OrderedDict\n",
    "\n",
    "initial_list = {'a': 1000, 'f': 200, 'd': 300, 'c': 400, 'b': 500, 'e': 600}\n",
    "print(initial_list)\n",
    "\n",
    "final_list = OrderedDict(dict(sorted(initial_list.items())))\n",
    "print(final_list)"
   ]
  },
  {
   "cell_type": "code",
   "execution_count": 8,
   "id": "3816165a",
   "metadata": {},
   "outputs": [
    {
     "name": "stdout",
     "output_type": "stream",
     "text": [
      "{'Banana': 98, 'Grepes': 70, 'Mango': 100, 'Pineapple': 30}\n",
      "{'Pineapple': 30, 'Grepes': 70, 'Banana': 98, 'Mango': 100}\n"
     ]
    }
   ],
   "source": [
    "Q7.Write a Python program to sort Python Dictionaries by Key or Value?\n",
    "\n",
    "Answer:-\n",
    "d_items = {'Mango':100 , 'Pineapple':30 , 'Banana':98, 'Grepes':70}\n",
    "def sort_dict(in_dict,sort_type):\n",
    "    if sort_type =='key':\n",
    "        print(dict(sorted(in_dict.items(), key=lambda x:x[0], reverse=False)))\n",
    "    else:\n",
    "         print(dict(sorted(in_dict.items(), key=lambda x:x[1], reverse=False)))\n",
    "            \n",
    "sort_dict(d_items,'key') \n",
    "sort_dict(d_items,'value')\n",
    "        "
   ]
  },
  {
   "cell_type": "code",
   "execution_count": null,
   "id": "be336fe8",
   "metadata": {},
   "outputs": [],
   "source": []
  }
 ],
 "metadata": {
  "kernelspec": {
   "display_name": "Python 3 (ipykernel)",
   "language": "python",
   "name": "python3"
  },
  "language_info": {
   "codemirror_mode": {
    "name": "ipython",
    "version": 3
   },
   "file_extension": ".py",
   "mimetype": "text/x-python",
   "name": "python",
   "nbconvert_exporter": "python",
   "pygments_lexer": "ipython3",
   "version": "3.9.12"
  }
 },
 "nbformat": 4,
 "nbformat_minor": 5
}
